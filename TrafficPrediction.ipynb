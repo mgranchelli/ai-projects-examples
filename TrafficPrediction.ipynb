{
  "metadata": {
    "kernelspec": {
      "display_name": "Python 3",
      "name": "python3"
    },
    "language_info": {
      "name": "python",
      "version": "3.10.13",
      "mimetype": "text/x-python",
      "codemirror_mode": {
        "name": "ipython",
        "version": 3
      },
      "pygments_lexer": "ipython3",
      "nbconvert_exporter": "python",
      "file_extension": ".py"
    },
    "kaggle": {
      "accelerator": "none",
      "dataSources": [
        {
          "sourceId": 1958513,
          "sourceType": "datasetVersion",
          "datasetId": 1169027
        }
      ],
      "dockerImageVersionId": 30664,
      "isInternetEnabled": true,
      "language": "python",
      "sourceType": "notebook",
      "isGpuEnabled": false
    },
    "colab": {
      "provenance": [],
      "gpuType": "T4",
      "include_colab_link": true
    },
    "accelerator": "GPU"
  },
  "nbformat_minor": 0,
  "nbformat": 4,
  "cells": [
    {
      "cell_type": "markdown",
      "metadata": {
        "id": "view-in-github",
        "colab_type": "text"
      },
      "source": [
        "<a href=\"https://colab.research.google.com/github/mgranchelli/ai-projects-examples/blob/main/TrafficPrediction.ipynb\" target=\"_parent\"><img src=\"https://colab.research.google.com/assets/colab-badge.svg\" alt=\"Open In Colab\"/></a>"
      ]
    },
    {
      "cell_type": "markdown",
      "source": [
        "# Traffic prediction"
      ],
      "metadata": {
        "id": "aa8xamtnHPo0"
      }
    },
    {
      "cell_type": "markdown",
      "source": [
        "**Context**\n",
        "\n",
        "Traffic congestion is rising in cities around the world. Contributing factors include expanding urban populations, aging infrastructure, inefficient and uncoordinated traffic signal timing and a lack of real-time data.\n",
        "\n",
        "The impacts are significant. Traffic data and analytics company INRIX estimates that traffic congestion cost U.S. commuters $305 billion in 2017 due to wasted fuel, lost time and the increased cost of transporting goods through congested areas. Given the physical and financial limitations around building additional roads, cities must use new strategies and technologies to improve traffic conditions.\n",
        "\n",
        "**Content**\n",
        "\n",
        "This dataset contains 48.1k (48120) observations of the number of vehicles each hour in four different junctions:\n",
        "1. DateTime\n",
        "2. Juction\n",
        "3. Vehicles\n",
        "4. ID\n",
        "\n",
        "**About the data**\n",
        "\n",
        "The sensors on each of these junctions were collecting data at different times, hence you will see traffic data from different time periods. Some of the junctions have provided limited or sparse data requiring thoughtfulness when creating future projections."
      ],
      "metadata": {
        "id": "iao_qlv8I47D"
      }
    },
    {
      "cell_type": "markdown",
      "source": [
        "## Download data"
      ],
      "metadata": {
        "id": "3-gJj11NNnrY"
      }
    },
    {
      "cell_type": "code",
      "source": [
        "!pip install gdown -q"
      ],
      "metadata": {
        "id": "u16J38Z1Nsd3"
      },
      "execution_count": null,
      "outputs": []
    },
    {
      "cell_type": "code",
      "source": [
        "!gdown https://drive.google.com/uc?id=10KhqwL6KBWwnVWMMnb3irXJwmG4VO_sA"
      ],
      "metadata": {
        "id": "bdT-UsI5Nvve"
      },
      "execution_count": null,
      "outputs": []
    },
    {
      "cell_type": "code",
      "source": [
        "!unzip -q traffic.zip"
      ],
      "metadata": {
        "id": "Ep-NJUdCNyOq"
      },
      "execution_count": null,
      "outputs": []
    },
    {
      "cell_type": "markdown",
      "source": [
        "## Import modules"
      ],
      "metadata": {
        "id": "0HdgD6cnRq7t"
      }
    },
    {
      "cell_type": "code",
      "source": [
        "import numpy as np\n",
        "import pandas as pd\n",
        "import os\n",
        "import matplotlib.pyplot as plt\n",
        "import seaborn as sns\n",
        "import datetime\n",
        "import tensorflow\n",
        "import tensorflow as tf\n",
        "from statsmodels.tsa.stattools import adfuller\n",
        "from sklearn.preprocessing import MinMaxScaler\n",
        "from tensorflow import keras\n",
        "from keras import callbacks\n",
        "from tensorflow.keras import layers, Sequential, callbacks\n",
        "from tensorflow.keras.layers import Conv2D, Flatten, Dense, LSTM, Dropout, GRU, Bidirectional, Conv1D, MaxPooling1D\n",
        "from tensorflow.keras.optimizers import SGD, Adam\n",
        "import math\n",
        "from sklearn.metrics import mean_squared_error\n",
        "from tensorflow.keras.optimizers.schedules import ExponentialDecay"
      ],
      "metadata": {
        "_uuid": "8f2839f25d086af736a60e9eeb907d3b93b6e0e5",
        "_cell_guid": "b1076dfc-b9ad-4769-8c92-a6c4dae69d19",
        "execution": {
          "iopub.status.busy": "2024-03-12T09:59:23.023966Z",
          "iopub.execute_input": "2024-03-12T09:59:23.025128Z",
          "iopub.status.idle": "2024-03-12T09:59:23.037483Z",
          "shell.execute_reply.started": "2024-03-12T09:59:23.025066Z",
          "shell.execute_reply": "2024-03-12T09:59:23.036337Z"
        },
        "trusted": true,
        "id": "dueWhTfQrsaI"
      },
      "execution_count": null,
      "outputs": []
    },
    {
      "cell_type": "markdown",
      "source": [
        "## Load data"
      ],
      "metadata": {
        "id": "FjmAtGdYIBg2"
      }
    },
    {
      "cell_type": "code",
      "source": [
        "data = pd.read_csv(\"traffic.csv\")\n",
        "data.head()"
      ],
      "metadata": {
        "execution": {
          "iopub.status.busy": "2024-03-12T09:59:31.377399Z",
          "iopub.execute_input": "2024-03-12T09:59:31.377904Z",
          "iopub.status.idle": "2024-03-12T09:59:31.486689Z",
          "shell.execute_reply.started": "2024-03-12T09:59:31.377864Z",
          "shell.execute_reply": "2024-03-12T09:59:31.485477Z"
        },
        "trusted": true,
        "id": "wytlWdV2rsaK"
      },
      "execution_count": null,
      "outputs": []
    },
    {
      "cell_type": "markdown",
      "source": [
        "## Data preprocessing"
      ],
      "metadata": {
        "id": "fvqiPLl3IP16"
      }
    },
    {
      "cell_type": "code",
      "source": [
        "# Split DataTime column\n",
        "data['DateTime']=pd.to_datetime(data['DateTime'])\n",
        "\n",
        "data[\"Year\"]=data['DateTime'].dt.year\n",
        "\n",
        "data[\"Month\"]=data['DateTime'].dt.month\n",
        "\n",
        "data[\"Date_no\"]=data['DateTime'].dt.day\n",
        "\n",
        "data[\"Hour\"]=data['DateTime'].dt.hour\n",
        "\n",
        "data[\"Day\"]= data['DateTime'].dt.strftime(\"%A\")\n",
        "data"
      ],
      "metadata": {
        "execution": {
          "iopub.status.busy": "2024-03-12T09:59:44.906961Z",
          "iopub.execute_input": "2024-03-12T09:59:44.907418Z",
          "iopub.status.idle": "2024-03-12T09:59:45.371432Z",
          "shell.execute_reply.started": "2024-03-12T09:59:44.907388Z",
          "shell.execute_reply": "2024-03-12T09:59:45.369998Z"
        },
        "trusted": true,
        "id": "uTKuQB7QrsaL"
      },
      "execution_count": null,
      "outputs": []
    },
    {
      "cell_type": "markdown",
      "source": [
        "## Vehicles at junction 1 in one month"
      ],
      "metadata": {
        "id": "Ork7clDsJaVZ"
      }
    },
    {
      "cell_type": "code",
      "source": [
        "new_data = data[(data['Junction'] == 1)]"
      ],
      "metadata": {
        "id": "NcbXCdrdM-Ae"
      },
      "execution_count": null,
      "outputs": []
    },
    {
      "cell_type": "code",
      "source": [
        "sns.lineplot(x=data['Date_no'], y=\"Vehicles\", data=data[data['Junction'] == 1], hue='Junction')\n",
        "plt.show()"
      ],
      "metadata": {
        "execution": {
          "iopub.status.busy": "2024-03-12T10:00:19.550693Z",
          "iopub.execute_input": "2024-03-12T10:00:19.55116Z",
          "iopub.status.idle": "2024-03-12T10:00:21.040526Z",
          "shell.execute_reply.started": "2024-03-12T10:00:19.551127Z",
          "shell.execute_reply": "2024-03-12T10:00:21.039106Z"
        },
        "trusted": true,
        "id": "FDy0tzZ_rsaL"
      },
      "execution_count": null,
      "outputs": []
    },
    {
      "cell_type": "markdown",
      "source": [
        "## Prepare data (Train, Test data)"
      ],
      "metadata": {
        "id": "fzh8NRdtOxCt"
      }
    },
    {
      "cell_type": "code",
      "source": [
        "# Support function\n",
        "def Normalize(df,col):\n",
        "    average = df[col].mean()\n",
        "    stdev = df[col].std()     # standard deviation\n",
        "    df_normalized = (df[col] - average) / stdev\n",
        "    df_normalized = df_normalized.to_frame()\n",
        "    return df_normalized, average, stdev\n",
        "\n",
        "def Difference(df,col, interval):\n",
        "    diff = []\n",
        "    for i in range(interval, len(df)):\n",
        "        value = df[col][i] - df[col][i - interval]\n",
        "        diff.append(value)\n",
        "    return diff"
      ],
      "metadata": {
        "execution": {
          "iopub.status.busy": "2024-03-12T10:00:29.613388Z",
          "iopub.execute_input": "2024-03-12T10:00:29.614175Z",
          "iopub.status.idle": "2024-03-12T10:00:29.62912Z",
          "shell.execute_reply.started": "2024-03-12T10:00:29.614126Z",
          "shell.execute_reply": "2024-03-12T10:00:29.62749Z"
        },
        "trusted": true,
        "id": "UMZPXhWorsaM"
      },
      "execution_count": null,
      "outputs": []
    },
    {
      "cell_type": "code",
      "source": [
        "df_N, av, std = Normalize(new_data, \"Vehicles\")\n",
        "Diff = Difference(df_N, col=\"Vehicles\", interval=(24*7)) #taking a week's diffrence\n",
        "df_N = df_N[24*7:]\n",
        "df_N.columns = [\"Norm\"]\n",
        "df_N = df_N.copy()\n",
        "df_N[\"Diff\"] = Diff\n",
        "df = df_N[\"Diff\"].dropna()\n",
        "df = df.to_frame()\n",
        "df.head()"
      ],
      "metadata": {
        "execution": {
          "iopub.status.busy": "2024-03-12T10:00:43.690956Z",
          "iopub.execute_input": "2024-03-12T10:00:43.691411Z",
          "iopub.status.idle": "2024-03-12T10:00:44.068618Z",
          "shell.execute_reply.started": "2024-03-12T10:00:43.691379Z",
          "shell.execute_reply": "2024-03-12T10:00:44.067607Z"
        },
        "trusted": true,
        "id": "LSO-rs9wrsaM"
      },
      "execution_count": null,
      "outputs": []
    },
    {
      "cell_type": "code",
      "source": [
        "def Split_data(df):\n",
        "    training_size = int(len(df)*0.80)\n",
        "    data_len = len(df)\n",
        "    train, test = df[0:training_size],df[training_size:data_len]\n",
        "    train, test = train.values.reshape(-1, 1), test.values.reshape(-1, 1)\n",
        "    return train, test\n",
        "\n",
        "df_train, df_test = Split_data(df)"
      ],
      "metadata": {
        "execution": {
          "iopub.status.busy": "2024-03-12T10:01:41.314244Z",
          "iopub.execute_input": "2024-03-12T10:01:41.31536Z",
          "iopub.status.idle": "2024-03-12T10:01:41.322678Z",
          "shell.execute_reply.started": "2024-03-12T10:01:41.315303Z",
          "shell.execute_reply": "2024-03-12T10:01:41.321075Z"
        },
        "trusted": true,
        "id": "rhTqUIC4rsaN"
      },
      "execution_count": null,
      "outputs": []
    },
    {
      "cell_type": "code",
      "source": [
        "def TnF(df):\n",
        "    end_len = len(df)\n",
        "    X = []\n",
        "    y = []\n",
        "    steps = 32\n",
        "    for i in range(steps, end_len):\n",
        "        X.append(df[i - steps:i, 0])\n",
        "        y.append(df[i, 0])\n",
        "    X, y = np.array(X), np.array(y)\n",
        "    return X ,y\n",
        "\n",
        "def FeatureFixShape(train, test):\n",
        "    train = np.reshape(train, (train.shape[0], train.shape[1], 1))\n",
        "    test = np.reshape(test, (test.shape[0],test.shape[1],1))\n",
        "    return train, test\n",
        "\n",
        "X_train, y_train = TnF(df_train)\n",
        "X_test, y_test = TnF(df_test)\n",
        "X_train, X_test = FeatureFixShape(X_train, X_test)"
      ],
      "metadata": {
        "execution": {
          "iopub.status.busy": "2024-03-12T10:01:45.721752Z",
          "iopub.execute_input": "2024-03-12T10:01:45.72221Z",
          "iopub.status.idle": "2024-03-12T10:01:45.766098Z",
          "shell.execute_reply.started": "2024-03-12T10:01:45.722178Z",
          "shell.execute_reply": "2024-03-12T10:01:45.764794Z"
        },
        "trusted": true,
        "id": "djaS6MNvrsaN"
      },
      "execution_count": null,
      "outputs": []
    },
    {
      "cell_type": "markdown",
      "source": [
        "## Training (Neural Networks)"
      ],
      "metadata": {
        "id": "kjtRajMNPx0g"
      }
    },
    {
      "cell_type": "code",
      "source": [
        "X_train, X_test = FeatureFixShape(X_train, X_test)\n",
        "from sklearn.metrics import mean_absolute_error\n",
        "\n",
        "# hyperparameter training\n",
        "lr_schedule = ExponentialDecay(\n",
        "    initial_learning_rate=0.01,\n",
        "    decay_steps=10000,\n",
        "    decay_rate=0.9)\n",
        "\n",
        "# Multi-Layer Perceptron (MLP)\n",
        "def MLP_model(X_Train, y_Train, X_Test, y_Test):\n",
        "    X_Train = np.squeeze(X_Train)  # This line removes the unnecessary dimension\n",
        "    X_Test = np.squeeze(X_Test)    # Do the same for the test data\n",
        "    early_stopping = callbacks.EarlyStopping(min_delta=0.001,patience=10, restore_best_weights=True)\n",
        "    model = Sequential()\n",
        "    model.add(Dense(100, activation='relu', input_dim=X_Train.shape[1]))\n",
        "    model.add(Dropout(0.2))\n",
        "    model.add(Dense(20, activation='relu', input_dim=X_Train.shape[1]))\n",
        "    model.add(Dropout(0.2))\n",
        "    model.add(Dense(1))\n",
        "    model.compile(optimizer=SGD(learning_rate=lr_schedule, momentum=0.9),loss='mean_squared_error')\n",
        "    model.fit(X_Train, y_Train, validation_data=(X_test, y_test), epochs=50, batch_size=120, callbacks=[early_stopping])\n",
        "    pred_MLP = model.predict(X_Test)\n",
        "    return pred_MLP"
      ],
      "metadata": {
        "execution": {
          "iopub.status.busy": "2024-03-12T10:01:50.355097Z",
          "iopub.execute_input": "2024-03-12T10:01:50.355653Z",
          "iopub.status.idle": "2024-03-12T10:01:50.368092Z",
          "shell.execute_reply.started": "2024-03-12T10:01:50.355612Z",
          "shell.execute_reply": "2024-03-12T10:01:50.366713Z"
        },
        "trusted": true,
        "id": "1ZLE4SJgrsaO"
      },
      "execution_count": null,
      "outputs": []
    },
    {
      "cell_type": "code",
      "source": [
        "# Support function (errors value)\n",
        "def RMSE_Value(test,predicted):\n",
        "    rmse = math.sqrt(mean_squared_error(test, predicted))\n",
        "    print(\"The root mean squared error is {}.\".format(rmse))\n",
        "    return rmse\n",
        "\n",
        "def MAE_Value(test,predicted):\n",
        "    mae = mean_absolute_error(test, predicted)\n",
        "    print(\"The MAE is {}.\".format(mae))\n",
        "    return mae\n",
        "\n",
        "#To plot the comparitive plot of targets and predictions\n",
        "def PredictionsPlot(test,predicted,m):\n",
        "    plt.figure(figsize=(12,5))\n",
        "    plt.plot(test, color=colors[m],label=\"True Value\",alpha=0.5 )\n",
        "    plt.plot(predicted,label=\"Predicted Values\")\n",
        "    plt.title(\"Traffic Prediction Vs True values\")\n",
        "    plt.xlabel(\"DateTime\")\n",
        "    plt.ylabel(\"Number of Vehicles\")\n",
        "    plt.legend()\n",
        "    plt.show()"
      ],
      "metadata": {
        "execution": {
          "iopub.status.busy": "2024-03-12T10:02:07.927843Z",
          "iopub.execute_input": "2024-03-12T10:02:07.928349Z",
          "iopub.status.idle": "2024-03-12T10:02:07.938213Z",
          "shell.execute_reply.started": "2024-03-12T10:02:07.928309Z",
          "shell.execute_reply": "2024-03-12T10:02:07.936895Z"
        },
        "trusted": true,
        "id": "YGlDbSibrsaO"
      },
      "execution_count": null,
      "outputs": []
    },
    {
      "cell_type": "markdown",
      "source": [
        "### Test model MLP"
      ],
      "metadata": {
        "id": "g0eBhQzCPjEo"
      }
    },
    {
      "cell_type": "code",
      "source": [
        "Pred_MLP = MLP_model(X_train,y_train,X_test, y_test)"
      ],
      "metadata": {
        "execution": {
          "iopub.status.busy": "2024-03-12T10:02:22.675654Z",
          "iopub.execute_input": "2024-03-12T10:02:22.676152Z",
          "iopub.status.idle": "2024-03-12T10:02:36.242245Z",
          "shell.execute_reply.started": "2024-03-12T10:02:22.676115Z",
          "shell.execute_reply": "2024-03-12T10:02:36.240638Z"
        },
        "trusted": true,
        "id": "n5Bi20d2rsaP"
      },
      "execution_count": null,
      "outputs": []
    },
    {
      "cell_type": "markdown",
      "source": [
        "#### Results"
      ],
      "metadata": {
        "id": "WnZrsLxCP4eV"
      }
    },
    {
      "cell_type": "code",
      "source": [
        "colors = [\"#6D91A1\",\"#74B3CE1\",\"#536D7A\",\"#3E535B\"]\n",
        "RMSE_MLP = RMSE_Value(y_test, Pred_MLP)\n",
        "MAE_MLP = MAE_Value(y_test, Pred_MLP)\n",
        "PredictionsPlot(y_test, Pred_MLP, 0)"
      ],
      "metadata": {
        "execution": {
          "iopub.status.busy": "2024-03-12T10:03:29.094058Z",
          "iopub.execute_input": "2024-03-12T10:03:29.094562Z",
          "iopub.status.idle": "2024-03-12T10:03:29.431401Z",
          "shell.execute_reply.started": "2024-03-12T10:03:29.094527Z",
          "shell.execute_reply": "2024-03-12T10:03:29.429845Z"
        },
        "trusted": true,
        "id": "AavLVpz7rsaP"
      },
      "execution_count": null,
      "outputs": []
    },
    {
      "cell_type": "markdown",
      "source": [
        "### RNN Models"
      ],
      "metadata": {
        "id": "no3DR_snP9Jm"
      }
    },
    {
      "cell_type": "code",
      "source": [
        "def GRU_model(X_Train, y_Train, X_Test, y_Test):\n",
        "    early_stopping = callbacks.EarlyStopping(min_delta=0.001,patience=10, restore_best_weights=True)\n",
        "    #callback delta 0.01 may interrupt the learning.\n",
        "\n",
        "    #The GRU model\n",
        "    model = Sequential()\n",
        "    model.add(GRU(units=100, return_sequences=True, input_shape=(X_Train.shape[1],1), activation='tanh'))\n",
        "    model.add(Dropout(0.2))\n",
        "    model.add(GRU(units=20, input_shape=(X_Train.shape[1],1), activation='tanh'))\n",
        "    model.add(Dropout(0.2))\n",
        "    model.add(Dense(units=1))\n",
        "\n",
        "    #Compiling the model\n",
        "    model.compile(optimizer=SGD(learning_rate=lr_schedule, momentum=0.9),loss='mean_squared_error')\n",
        "    model.fit(X_Train,y_Train, validation_data=(X_Test, y_Test), epochs=50, batch_size=120, callbacks=[early_stopping])\n",
        "    pred_GRU= model.predict(X_Test)\n",
        "    return pred_GRU"
      ],
      "metadata": {
        "execution": {
          "iopub.status.busy": "2024-03-12T10:04:22.171461Z",
          "iopub.execute_input": "2024-03-12T10:04:22.171969Z",
          "iopub.status.idle": "2024-03-12T10:04:22.182664Z",
          "shell.execute_reply.started": "2024-03-12T10:04:22.171932Z",
          "shell.execute_reply": "2024-03-12T10:04:22.181398Z"
        },
        "trusted": true,
        "id": "rg9W5CQhrsaQ"
      },
      "execution_count": null,
      "outputs": []
    },
    {
      "cell_type": "code",
      "source": [
        "def LSTM_model(X_Train, y_Train, X_Test, y_Test):\n",
        "    early_stopping = callbacks.EarlyStopping(min_delta=0.001,patience=10, restore_best_weights=True)\n",
        "\n",
        "    #The LSTM model\n",
        "    model = Sequential()\n",
        "    model.add(LSTM(units=100, return_sequences=True, input_shape=(X_Train.shape[1],1), activation='tanh'))\n",
        "    model.add(Dropout(0.2))\n",
        "    model.add(LSTM(units=20, input_shape=(X_Train.shape[1],1), activation='tanh'))\n",
        "    model.add(Dropout(0.2))\n",
        "    model.add(Dense(units=1))\n",
        "\n",
        "    #Compiling the model\n",
        "    model.compile(optimizer=SGD(learning_rate=lr_schedule, momentum=0.9),loss='mean_squared_error')\n",
        "    model.fit(X_Train,y_Train, validation_data=(X_Test, y_Test), epochs=50, batch_size=120, callbacks=[early_stopping])\n",
        "    pred_LSTM = model.predict(X_Test)\n",
        "    return pred_LSTM"
      ],
      "metadata": {
        "execution": {
          "iopub.status.busy": "2024-03-12T10:04:38.113416Z",
          "iopub.execute_input": "2024-03-12T10:04:38.113883Z",
          "iopub.status.idle": "2024-03-12T10:04:38.124662Z",
          "shell.execute_reply.started": "2024-03-12T10:04:38.113849Z",
          "shell.execute_reply": "2024-03-12T10:04:38.123036Z"
        },
        "trusted": true,
        "id": "PjQkpnWKrsaQ"
      },
      "execution_count": null,
      "outputs": []
    },
    {
      "cell_type": "markdown",
      "source": [
        "### Test GRU model"
      ],
      "metadata": {
        "id": "6Yam5tZvQHA-"
      }
    },
    {
      "cell_type": "code",
      "source": [
        "Pred_GRU = GRU_model(X_train,y_train,X_test,y_test)"
      ],
      "metadata": {
        "execution": {
          "iopub.status.busy": "2024-03-12T10:05:15.684349Z",
          "iopub.execute_input": "2024-03-12T10:05:15.68481Z",
          "iopub.status.idle": "2024-03-12T10:08:11.284688Z",
          "shell.execute_reply.started": "2024-03-12T10:05:15.684777Z",
          "shell.execute_reply": "2024-03-12T10:08:11.283172Z"
        },
        "trusted": true,
        "id": "3yX6m0tIrsaR"
      },
      "execution_count": null,
      "outputs": []
    },
    {
      "cell_type": "markdown",
      "source": [
        "#### Results"
      ],
      "metadata": {
        "id": "PuuntthOQLlY"
      }
    },
    {
      "cell_type": "code",
      "source": [
        "RMSE_GRU = RMSE_Value(y_test, Pred_GRU)\n",
        "MAE_GRU = MAE_Value(y_test, Pred_GRU)\n",
        "PredictionsPlot(y_test, Pred_GRU, 0)"
      ],
      "metadata": {
        "execution": {
          "iopub.status.busy": "2024-03-12T10:08:30.004147Z",
          "iopub.execute_input": "2024-03-12T10:08:30.005534Z",
          "iopub.status.idle": "2024-03-12T10:08:30.304777Z",
          "shell.execute_reply.started": "2024-03-12T10:08:30.005473Z",
          "shell.execute_reply": "2024-03-12T10:08:30.30348Z"
        },
        "trusted": true,
        "id": "qkCPCWtqrsaR"
      },
      "execution_count": null,
      "outputs": []
    },
    {
      "cell_type": "markdown",
      "source": [
        "### Test LSTM model"
      ],
      "metadata": {
        "id": "lfK8-uzIQOrK"
      }
    },
    {
      "cell_type": "code",
      "source": [
        "Pred_LSTM = LSTM_model(X_train,y_train,X_test, y_test)"
      ],
      "metadata": {
        "execution": {
          "iopub.status.busy": "2024-03-12T10:09:33.27111Z",
          "iopub.execute_input": "2024-03-12T10:09:33.271656Z",
          "iopub.status.idle": "2024-03-12T10:16:26.253928Z",
          "shell.execute_reply.started": "2024-03-12T10:09:33.271618Z",
          "shell.execute_reply": "2024-03-12T10:16:26.252184Z"
        },
        "trusted": true,
        "id": "V8ApPiojrsaR"
      },
      "execution_count": null,
      "outputs": []
    },
    {
      "cell_type": "markdown",
      "source": [
        "#### Results"
      ],
      "metadata": {
        "id": "1HNuBPe0QRpm"
      }
    },
    {
      "cell_type": "code",
      "source": [
        "RMSE_LSTM = RMSE_Value(y_test, Pred_LSTM)\n",
        "MAE_LSTM = MAE_Value(y_test, Pred_LSTM)\n",
        "PredictionsPlot(y_test, Pred_LSTM, 0)"
      ],
      "metadata": {
        "execution": {
          "iopub.status.busy": "2024-03-12T10:20:10.698773Z",
          "iopub.execute_input": "2024-03-12T10:20:10.699322Z",
          "iopub.status.idle": "2024-03-12T10:20:11.083632Z",
          "shell.execute_reply.started": "2024-03-12T10:20:10.699251Z",
          "shell.execute_reply": "2024-03-12T10:20:11.082128Z"
        },
        "trusted": true,
        "id": "L0IQzatzrsaS"
      },
      "execution_count": null,
      "outputs": []
    }
  ]
}